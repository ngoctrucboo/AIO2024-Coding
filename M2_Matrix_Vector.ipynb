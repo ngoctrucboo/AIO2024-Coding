{
 "cells": [
  {
   "cell_type": "code",
   "execution_count": 2,
   "metadata": {},
   "outputs": [
    {
     "name": "stdout",
     "output_type": "stream",
     "text": [
      "23.28\n"
     ]
    }
   ],
   "source": [
    "# Length of a vector\n",
    "import numpy as np\n",
    "def computeVectorLength(vector):\n",
    "  len_of_vector = np.linalg.norm(vector)\n",
    "\n",
    "  return len_of_vector\n",
    "vector = np.array([-2, 4, 9, 21])\n",
    "result = computeVectorLength([vector])\n",
    "print(round(result,2))"
   ]
  },
  {
   "cell_type": "code",
   "execution_count": 14,
   "metadata": {},
   "outputs": [
    {
     "name": "stdout",
     "output_type": "stream",
     "text": [
      "[ 0 -8 18  0]\n",
      "[ 0 -8 18  0]\n",
      "[ 0 -8 18  0]\n"
     ]
    }
   ],
   "source": [
    "# Dot product/Multiplying a vector/matrix by a matrix\n",
    "def computeDotProduct(a, b):\n",
    "  result = np.dot(a, b)\n",
    "\n",
    "  return result\n",
    "v1 = np.array([0, 2])\n",
    "v2 = np.array([[-1, 1, 1, 1], [0, -4, 9, 0]])\n",
    "result = computeDotProduct(v1, v2)\n",
    "\n",
    "print(result) #Cách 1\n",
    "print(v1.dot(v2)) #Cách 2: dot() chỉ dùng cho tích vô hướng và phép nhân ma trận.\n",
    "print(v1@v2) #Cách 3: @ có thể được sử dụng cho nhiều loại phép toán khác ngoài NumPy, miễn là các đối tượng định nghĩa phương thức __matmul__."
   ]
  },
  {
   "cell_type": "code",
   "execution_count": 16,
   "metadata": {},
   "outputs": [
    {
     "name": "stdout",
     "output_type": "stream",
     "text": [
      "[[1. 0. 0.]\n",
      " [0. 1. 0.]\n",
      " [0. 0. 1.]]\n"
     ]
    }
   ],
   "source": [
    "m1 = np.eye(3)\n",
    "print(m1)"
   ]
  },
  {
   "cell_type": "markdown",
   "metadata": {},
   "source": [
    "Tham số 'F' và 'C' trong hàm reshape của NumPy đề cập đến thứ tự bộ nhớ (memory order) hoặc thứ tự lưu trữ (storage order) của mảng. Chúng xác định cách các phần tử của mảng được đọc khi thực hiện reshape.\n",
    "\n",
    "'C' order (row-major): 'C' là viết tắt của \"C-style\" hoặc \"C-contiguous\".\n",
    "Đây là thứ tự mặc định trong NumPy.\n",
    "Trong thứ tự này, các phần tử được đọc và ghi theo hàng (từ trái sang phải, từ trên xuống dưới).\n",
    "Phù hợp với cách lưu trữ mảng trong ngôn ngữ lập trình C.\n",
    "\n",
    "\n",
    "'F' order (column-major). 'F' là viết tắt của \"Fortran-style\" hoặc \"Fortran-contiguous\".\n",
    "Trong thứ tự này, các phần tử được đọc và ghi theo cột (từ trên xuống, từ trái sang phải).\n",
    "Phù hợp với cách lưu trữ mảng trong ngôn ngữ lập trình Fortran."
   ]
  },
  {
   "cell_type": "code",
   "execution_count": 23,
   "metadata": {},
   "outputs": [
    {
     "name": "stdout",
     "output_type": "stream",
     "text": [
      "[[1]\n",
      " [3]\n",
      " [2]\n",
      " [4]]\n"
     ]
    }
   ],
   "source": [
    "m1 = np.array([[1, 2], [3, 4]])\n",
    "m1 = np.reshape(m1,(4,1), \"F\")\n",
    "print(m1)"
   ]
  },
  {
   "cell_type": "code",
   "execution_count": 24,
   "metadata": {},
   "outputs": [
    {
     "name": "stdout",
     "output_type": "stream",
     "text": [
      "[[0.1  0.15]\n",
      " [0.2  0.05]]\n"
     ]
    }
   ],
   "source": [
    "# Matrix inverse\n",
    "def inverse_matrix(matrix):\n",
    "  result = np.linalg.inv(matrix)\n",
    "  return result\n",
    "m1 = np.array([[-2, 6], [8, -4]])\n",
    "result = inverse_matrix(m1)\n",
    "print(result)"
   ]
  },
  {
   "cell_type": "code",
   "execution_count": 25,
   "metadata": {},
   "outputs": [
    {
     "name": "stdout",
     "output_type": "stream",
     "text": [
      "[[ 0.89442719 -0.70710678]\n",
      " [ 0.4472136   0.70710678]]\n"
     ]
    }
   ],
   "source": [
    "# Eigenvector and eigenvalue\n",
    "def compute_eigenvalues_eigenvectors(matrix):\n",
    "  eigenvalues, eigenvectors = np.linalg.eig(matrix)\n",
    "  return eigenvalues,eigenvectors\n",
    "matrix = np.array([[0.9, 0.2], [0.1, 0.8]])\n",
    "eigenvalues, eigenvectors = compute_eigenvalues_eigenvectors(matrix)\n",
    "print(eigenvectors)"
   ]
  },
  {
   "cell_type": "code",
   "execution_count": 26,
   "metadata": {},
   "outputs": [
    {
     "name": "stdout",
     "output_type": "stream",
     "text": [
      "0.577\n"
     ]
    }
   ],
   "source": [
    "# Cosine Similarity\n",
    "import numpy as np\n",
    "from numpy import dot\n",
    "from numpy.linalg import norm\n",
    "\n",
    "def compute_cosine(v1, v2):\n",
    "  cos_sim = computeDotProduct(v1,v2) / (computeVectorLength(v1)*computeVectorLength(v2))\n",
    "\n",
    "  return cos_sim\n",
    "x = np.array([1, 2, 3, 4])\n",
    "y = np.array([1, 0, 3, 0])\n",
    "result = compute_cosine(x,y)\n",
    "print(round(result, 3))"
   ]
  }
 ],
 "metadata": {
  "kernelspec": {
   "display_name": "Python 3",
   "language": "python",
   "name": "python3"
  },
  "language_info": {
   "codemirror_mode": {
    "name": "ipython",
    "version": 3
   },
   "file_extension": ".py",
   "mimetype": "text/x-python",
   "name": "python",
   "nbconvert_exporter": "python",
   "pygments_lexer": "ipython3",
   "version": "3.11.1"
  }
 },
 "nbformat": 4,
 "nbformat_minor": 2
}
